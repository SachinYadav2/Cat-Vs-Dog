{
  "cells": [
    {
      "cell_type": "code",
      "execution_count": null,
      "metadata": {},
      "outputs": [],
      "source": [
        "label = ['cat' , 'dog']\n",
        "def xml (file):\n",
        "    tree = ET.parse(file)\n",
        "    root = tree.getroot()\n",
        "    \n",
        "    for obje in root.findall('object'):\n",
        "        name = obje.find('name').text\n",
        "        \n",
        "        label1 = label.index(name)\n",
        "        \n",
        "        bndbox = obje.find('bndbox')\n",
        "        \n",
        "        xmin  = bndbox.find('xmin').text\n",
        "        ymin  = bndbox.find('ymin').text\n",
        "        xmax  = bndbox.find('xmax').text\n",
        "        ymax  = bndbox.find('ymax').text\n",
        "        \n",
        "        return([int(label1) , int(xmin) ,int(ymin) , int(xmax) , int(ymax)])\n",
        "    \n",
        "    \n",
        "    "
      ]
    },
    {
      "cell_type": "code",
      "execution_count": null,
      "metadata": {},
      "outputs": [],
      "source": [
        "path = '/kaggle/input/dog-and-cat-detection/annotations/'\n",
        "# Sorted se hamari file jese data set me h order me use order me dikhengi\n",
        "text_file = ['/kaggle/input/dog-and-cat-detection/annotations/' + f for f in sorted(os.listdir(path))]\n",
        "y = []\n",
        "\n",
        "\n",
        "for file in range(1500):\n",
        "    y.append(xml(text_file[file]))\n",
        "    "
      ]
    },
    {
      "cell_type": "code",
      "execution_count": null,
      "metadata": {},
      "outputs": [],
      "source": [
        "\n",
        "y = np.array(y)\n",
        "print(type(y))\n"
      ]
    },
    {
      "cell_type": "code",
      "execution_count": null,
      "metadata": {},
      "outputs": [],
      "source": [
        "path = '/kaggle/input/dog-and-cat-detection/images/'\n",
        "img_dir = os.path.join(path,\"*g\")\n",
        "files = glob.glob(img_dir)\n",
        "files.sort()"
      ]
    },
    {
      "cell_type": "code",
      "execution_count": null,
      "metadata": {},
      "outputs": [],
      "source": [
        "import tensorflow as tf\n",
        "import pandas as pd\n",
        "import os\n",
        "import numpy as np\n",
        "from xml.dom import minidom\n",
        "\n",
        "\n",
        "\n",
        "\n",
        "import cv2\n",
        "import matplotlib.pyplot as plt\n",
        "import glob\n",
        "from sklearn.model_selection import train_test_split\n",
        "from skimage import io"
      ]
    },
    {
      "cell_type": "code",
      "execution_count": null,
      "metadata": {},
      "outputs": [],
      "source": [
        "IMAGE_SIZE = 224\n",
        "image_folder_path = \"/kaggle/input/dog-and-cat-detection/images\"\n",
        "\n",
        "img_data = []\n",
        "\n",
        "for img in range(1500):\n",
        "    img_path = os.path.join(image_folder_path,sorted(os.listdir(image_folder_path))[img])\n",
        "    img = cv2.imread(img_path)\n",
        "    img = cv2.resize(img,(IMAGE_SIZE , IMAGE_SIZE))\n",
        "    img_data.append(np.array(img))\n"
      ]
    },
    {
      "cell_type": "code",
      "execution_count": null,
      "metadata": {},
      "outputs": [],
      "source": [
        "X = np.array(img_data)\n"
      ]
    },
    {
      "cell_type": "code",
      "execution_count": null,
      "metadata": {},
      "outputs": [],
      "source": [
        "print(type(X))\n",
        "print(type(y))\n",
        "\n",
        "X_train, X_test, y_train, y_test = train_test_split(X,y,test_size=0.2)\n",
        "X_train.shape,y_train.shape,X_test.shape,y_test.shape"
      ]
    },
    {
      "cell_type": "code",
      "execution_count": null,
      "metadata": {},
      "outputs": [],
      "source": [
        "y1_train = y_train[:,0:1]\n",
        "y1_test = y_test[:,0:1]\n",
        "y2_train = y_train[:,1:]\n",
        "y2_test = y_test[:,1:]\n",
        "y1_train.shape,y1_test.shape,y2_train.shape,y2_test.shape"
      ]
    },
    {
      "cell_type": "code",
      "execution_count": null,
      "metadata": {},
      "outputs": [],
      "source": [
        "# Yha hmne class ko one hot encoder kiya h \n",
        "y1_train = tf.keras.utils.to_categorical(y1_train)\n",
        "y1_test = tf.keras.utils.to_categorical(y1_test)\n"
      ]
    },
    {
      "cell_type": "code",
      "execution_count": null,
      "metadata": {},
      "outputs": [],
      "source": [
        "inp = tf.keras.layers.Input(shape=(224,224,3))\n",
        "res = tf.keras.applications.ResNet152V2(include_top=False,weights=\"imagenet\" ) (inp)\n",
        "flatten = tf.keras.layers.Flatten() (res)\n",
        "d1 = tf.keras.layers.Dense(128,activation='relu') (flatten)\n",
        "\n",
        "d2 = tf.keras.layers.Dense(128,activation='relu') (d1)\n",
        "#yha ye 1 or two hmara class ke index ke uper depent h or hmesha normilized label ko nhi kiya jata h bndbox ke \n",
        "out1 = tf.keras.layers.Dense(2,activation='softmax') (d2)\n",
        "\n",
        "d3 = tf.keras.layers.Dense(256,activation='relu') (d2)\n",
        "d4 = tf.keras.layers.Dense(256,activation='relu') (d3)\n",
        "\n",
        "out2 = tf.keras.layers.Dense(4) (d4)\n",
        "\n",
        "model = tf.keras.models.Model(inputs=inp,outputs=[out1,out2])\n",
        "model.summary()"
      ]
    },
    {
      "cell_type": "code",
      "execution_count": null,
      "metadata": {},
      "outputs": [],
      "source": [
        "tf.keras.utils.plot_model(model)"
      ]
    },
    {
      "cell_type": "code",
      "execution_count": null,
      "metadata": {},
      "outputs": [],
      "source": [
        "model.compile(optimizer='adam',loss=['categorical_crossentropy','huber'])"
      ]
    },
    {
      "cell_type": "code",
      "execution_count": null,
      "metadata": {},
      "outputs": [],
      "source": [
        "model.fit(X_train,[y1_train,y2_train],epochs=80)"
      ]
    },
    {
      "attachments": {},
      "cell_type": "markdown",
      "metadata": {},
      "source": [
        "# TESTING NEW"
      ]
    },
    {
      "cell_type": "code",
      "execution_count": null,
      "metadata": {},
      "outputs": [],
      "source": [
        "pred_img = cv2.imread('/kaggle/input/dog-and-cat-detection/images/Cats_Test0.png')\n",
        "pred_img = cv2.resize(pred_img,(224, 224))\n",
        "# pred_img = pred_img.reshape(1,224,224,3)\n",
        "\n",
        "\n",
        "c,bnd = model.predict(np.asarray([pred_img]))"
      ]
    },
    {
      "cell_type": "code",
      "execution_count": null,
      "metadata": {},
      "outputs": [],
      "source": [
        "# 1752 1541 6138 5508\n",
        "\n",
        "bnd = np.round(bnd)\n",
        "bnd = np.array(bnd.astype('int64'))\n",
        "xmin , ymin , xmax , ymax      =    bnd[0][0] , bnd[0][1] ,bnd[0][2] ,bnd[0][3] \n",
        "print(xmin , ymin , xmax , ymax )"
      ]
    },
    {
      "cell_type": "code",
      "execution_count": null,
      "metadata": {},
      "outputs": [],
      "source": [
        "img = cv2.imread('/kaggle/input/dog-and-cat-detection/images/Cats_Test0.png',cv2.COLOR_BGR2RGB)\n",
        "bnd_img=cv2.rectangle(img ,(xmin,ymin),(xmax,ymax),(255,0,0),2) \n",
        "plt.imshow(bnd_img)"
      ]
    }
  ],
  "metadata": {
    "accelerator": "GPU",
    "colab": {
      "provenance": []
    },
    "gpuClass": "standard",
    "kernelspec": {
      "display_name": "tensorflow",
      "language": "python",
      "name": "python3"
    },
    "language_info": {
      "codemirror_mode": {
        "name": "ipython",
        "version": 3
      },
      "file_extension": ".py",
      "mimetype": "text/x-python",
      "name": "python",
      "nbconvert_exporter": "python",
      "pygments_lexer": "ipython3",
      "version": "3.10.9"
    },
    "vscode": {
      "interpreter": {
        "hash": "f9789f007f0807c23f954233eb74f49a86caa155059f1c7c3ac5c6f62aa88e4f"
      }
    }
  },
  "nbformat": 4,
  "nbformat_minor": 0
}
